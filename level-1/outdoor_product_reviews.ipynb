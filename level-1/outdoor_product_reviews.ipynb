{
  "cells": [
    {
      "cell_type": "code",
      "execution_count": 1,
      "metadata": {
        "colab": {
          "base_uri": "https://localhost:8080/"
        },
        "id": "5WosHdRWdmpw",
        "outputId": "6edbf061-9f82-46eb-bfd5-d7359886f0b2"
      },
      "outputs": [
        {
          "name": "stdout",
          "output_type": "stream",
          "text": [
            "\r0% [Working]\r            \rIgn:1 https://developer.download.nvidia.com/compute/cuda/repos/ubuntu1804/x86_64  InRelease\n",
            "\r0% [Connecting to archive.ubuntu.com] [Connecting to security.ubuntu.com] [Conn\r                                                                               \rIgn:2 https://developer.download.nvidia.com/compute/machine-learning/repos/ubuntu1804/x86_64  InRelease\n",
            "\r0% [Connecting to archive.ubuntu.com] [Connecting to security.ubuntu.com] [Wait\r                                                                               \rHit:3 https://cloud.r-project.org/bin/linux/ubuntu bionic-cran40/ InRelease\n",
            "\r0% [Connecting to archive.ubuntu.com] [Connecting to security.ubuntu.com] [Conn\r                                                                               \rHit:4 https://developer.download.nvidia.com/compute/cuda/repos/ubuntu1804/x86_64  Release\n",
            "Hit:5 https://developer.download.nvidia.com/compute/machine-learning/repos/ubuntu1804/x86_64  Release\n",
            "Get:6 http://security.ubuntu.com/ubuntu bionic-security InRelease [88.7 kB]\n",
            "Hit:7 http://archive.ubuntu.com/ubuntu bionic InRelease\n",
            "Hit:8 http://ppa.launchpad.net/c2d4u.team/c2d4u4.0+/ubuntu bionic InRelease\n",
            "Get:10 http://archive.ubuntu.com/ubuntu bionic-updates InRelease [88.7 kB]\n",
            "Hit:11 http://ppa.launchpad.net/cran/libgit2/ubuntu bionic InRelease\n",
            "Hit:13 http://ppa.launchpad.net/deadsnakes/ppa/ubuntu bionic InRelease\n",
            "Get:14 http://archive.ubuntu.com/ubuntu bionic-backports InRelease [74.6 kB]\n",
            "Hit:15 http://ppa.launchpad.net/graphics-drivers/ppa/ubuntu bionic InRelease\n",
            "Fetched 252 kB in 2s (113 kB/s)\n",
            "Reading package lists... Done\n"
          ]
        }
      ],
      "source": [
        "import os\n",
        "# Find the latest version of spark 3.0  from http://www.apache.org/dist/spark/ and enter as the spark version\n",
        "spark_version = 'spark-3.2.0'\n",
        "os.environ['SPARK_VERSION']=spark_version\n",
        "\n",
        "# Install Spark and Java\n",
        "!apt-get update\n",
        "!apt-get install openjdk-8-jdk-headless -qq > /dev/null\n",
        "!wget -q http://www.apache.org/dist/spark/$SPARK_VERSION/$SPARK_VERSION-bin-hadoop2.7.tgz\n",
        "!tar xf $SPARK_VERSION-bin-hadoop2.7.tgz\n",
        "!pip install -q findspark\n",
        "\n",
        "# Set Environment Variables\n",
        "os.environ[\"JAVA_HOME\"] = \"/usr/lib/jvm/java-8-openjdk-amd64\"\n",
        "os.environ[\"SPARK_HOME\"] = f\"/content/{spark_version}-bin-hadoop2.7\"\n",
        "\n",
        "# Start a SparkSession\n",
        "import findspark\n",
        "\n",
        "findspark.init()"
      ]
    },
    {
      "cell_type": "code",
      "execution_count": 2,
      "metadata": {
        "colab": {
          "base_uri": "https://localhost:8080/"
        },
        "id": "xISV-9eR6Yah",
        "outputId": "acb85dd2-73bb-491e-f711-baac764a1058"
      },
      "outputs": [
        {
          "name": "stdout",
          "output_type": "stream",
          "text": [
            "--2021-12-03 21:10:22--  https://jdbc.postgresql.org/download/postgresql-42.2.9.jar\n",
            "Resolving jdbc.postgresql.org (jdbc.postgresql.org)... 72.32.157.228, 2001:4800:3e1:1::228\n",
            "Connecting to jdbc.postgresql.org (jdbc.postgresql.org)|72.32.157.228|:443... connected.\n",
            "HTTP request sent, awaiting response... 200 OK\n",
            "Length: 914037 (893K) [application/java-archive]\n",
            "Saving to: ‘postgresql-42.2.9.jar.10’\n",
            "\n",
            "postgresql-42.2.9.j 100%[===================>] 892.61K  5.51MB/s    in 0.2s    \n",
            "\n",
            "2021-12-03 21:10:23 (5.51 MB/s) - ‘postgresql-42.2.9.jar.10’ saved [914037/914037]\n",
            "\n"
          ]
        }
      ],
      "source": [
        "!wget https://jdbc.postgresql.org/download/postgresql-42.2.9.jar"
      ]
    },
    {
      "cell_type": "code",
      "execution_count": 3,
      "metadata": {
        "id": "aEQFTWiV6g2h"
      },
      "outputs": [],
      "source": [
        "from pyspark.sql import SparkSession\n",
        "spark = SparkSession.builder.appName(\"Outdoor_Product_Reviews\").config(\"spark.driver.extraClassPath\",\"/content/postgresql-42.2.9.jar\").getOrCreate()"
      ]
    },
    {
      "cell_type": "code",
      "execution_count": 4,
      "metadata": {
        "colab": {
          "base_uri": "https://localhost:8080/"
        },
        "id": "qik6uGSV9BWa",
        "outputId": "402aa1ce-44d6-4811-cb31-15e22dbae82e"
      },
      "outputs": [
        {
          "name": "stdout",
          "output_type": "stream",
          "text": [
            "+-----------+-----------+--------------+----------+--------------+--------------------+----------------+-----------+-------------+-----------+----+-----------------+--------------------+--------------------+-----------+\n",
            "|marketplace|customer_id|     review_id|product_id|product_parent|       product_title|product_category|star_rating|helpful_votes|total_votes|vine|verified_purchase|     review_headline|         review_body|review_date|\n",
            "+-----------+-----------+--------------+----------+--------------+--------------------+----------------+-----------+-------------+-----------+----+-----------------+--------------------+--------------------+-----------+\n",
            "|         US|   18446823|R35T75OLUGHL5C|B000NV6H94|     110804376|Stearns Youth Boa...|        Outdoors|          4|            0|          0|   N|                Y|          Four Stars|          GOOD VALUE| 2015-08-31|\n",
            "|         US|   13724367|R2BV735O46BN33|B000IN0W3Y|     624096774|Primal Wear Men's...|        Outdoors|          5|            0|          0|   N|                Y|          Five Stars|  Excellent quality.| 2015-08-31|\n",
            "|         US|   51001958|R2NBEUGPQQGXP1|B008RBJXFM|     278970944|Osprey Hydraulics...|        Outdoors|          4|            0|          0|   N|                Y|Only Flaw Is The Cap|3rd season using ...| 2015-08-31|\n",
            "|         US|   32866903|R17LLAOJ8ITK0S|B00FK8WUQY|     312877650|CamelBak eddy .75...|        Outdoors|          3|            1|          1|   N|                Y|Poor design leads...|poor construction...| 2015-08-31|\n",
            "|         US|   30907790|R39PEQBT5ISEF4|B00EZA3VW0|     305567912|Children Black Re...|        Outdoors|          1|            0|          0|   N|                Y|Very bad quality,...|Very bad quality,...| 2015-08-31|\n",
            "+-----------+-----------+--------------+----------+--------------+--------------------+----------------+-----------+-------------+-----------+----+-----------------+--------------------+--------------------+-----------+\n",
            "only showing top 5 rows\n",
            "\n"
          ]
        },
        {
          "data": {
            "text/plain": [
              "2302401"
            ]
          },
          "execution_count": 4,
          "metadata": {},
          "output_type": "execute_result"
        }
      ],
      "source": [
        "# Read in data from S3 Buckets\n",
        "from pyspark import SparkFiles\n",
        "\n",
        "url=\"https://aws-reviews-dwc.s3.amazonaws.com/amazon_reviews_us_Outdoors_v1_00.tsv\"\n",
        "spark.sparkContext.addFile(url)\n",
        "outdoor_data_df = spark.read.csv(SparkFiles.get(\"amazon_reviews_us_Outdoors_v1_00.tsv\"), sep=\"\\t\", header=True, inferSchema=True)\n",
        "\n",
        "outdoor_data_df.show(5)\n",
        "outdoor_data_df.count()"
      ]
    },
    {
      "cell_type": "code",
      "execution_count": 5,
      "metadata": {
        "colab": {
          "base_uri": "https://localhost:8080/"
        },
        "id": "rtDndjrdlh83",
        "outputId": "e2b962a9-6b52-4ecb-be6b-ee39f23f00ec"
      },
      "outputs": [
        {
          "name": "stdout",
          "output_type": "stream",
          "text": [
            "+-----------+-----------+--------------+----------+--------------+--------------------+----------------+-----------+-------------+-----------+----+-----------------+--------------------+--------------------+-----------+\n",
            "|marketplace|customer_id|     review_id|product_id|product_parent|       product_title|product_category|star_rating|helpful_votes|total_votes|vine|verified_purchase|     review_headline|         review_body|review_date|\n",
            "+-----------+-----------+--------------+----------+--------------+--------------------+----------------+-----------+-------------+-----------+----+-----------------+--------------------+--------------------+-----------+\n",
            "|         US|   18446823|R35T75OLUGHL5C|B000NV6H94|     110804376|Stearns Youth Boa...|        Outdoors|          4|            0|          0|   N|                Y|          Four Stars|          GOOD VALUE| 2015-08-31|\n",
            "|         US|   13724367|R2BV735O46BN33|B000IN0W3Y|     624096774|Primal Wear Men's...|        Outdoors|          5|            0|          0|   N|                Y|          Five Stars|  Excellent quality.| 2015-08-31|\n",
            "|         US|   51001958|R2NBEUGPQQGXP1|B008RBJXFM|     278970944|Osprey Hydraulics...|        Outdoors|          4|            0|          0|   N|                Y|Only Flaw Is The Cap|3rd season using ...| 2015-08-31|\n",
            "|         US|   32866903|R17LLAOJ8ITK0S|B00FK8WUQY|     312877650|CamelBak eddy .75...|        Outdoors|          3|            1|          1|   N|                Y|Poor design leads...|poor construction...| 2015-08-31|\n",
            "|         US|   30907790|R39PEQBT5ISEF4|B00EZA3VW0|     305567912|Children Black Re...|        Outdoors|          1|            0|          0|   N|                Y|Very bad quality,...|Very bad quality,...| 2015-08-31|\n",
            "+-----------+-----------+--------------+----------+--------------+--------------------+----------------+-----------+-------------+-----------+----+-----------------+--------------------+--------------------+-----------+\n",
            "only showing top 5 rows\n",
            "\n"
          ]
        },
        {
          "data": {
            "text/plain": [
              "2302174"
            ]
          },
          "execution_count": 5,
          "metadata": {},
          "output_type": "execute_result"
        }
      ],
      "source": [
        "# Drop null values\n",
        "\n",
        "dropna_df = outdoor_data_df.dropna()\n",
        "dropna_df.show(5)\n",
        "dropna_df.count()"
      ]
    },
    {
      "cell_type": "code",
      "execution_count": 6,
      "metadata": {
        "colab": {
          "base_uri": "https://localhost:8080/"
        },
        "id": "bjEBAydllvCg",
        "outputId": "9ddc30f5-5004-4877-a357-d56e8587c869"
      },
      "outputs": [
        {
          "name": "stdout",
          "output_type": "stream",
          "text": [
            "+-----------+--------------+----------+--------------+--------------------+-----------+-------------+-----------+----+-----------+\n",
            "|customer_id|     review_id|product_id|product_parent|       product_title|star_rating|helpful_votes|total_votes|vine|review_date|\n",
            "+-----------+--------------+----------+--------------+--------------------+-----------+-------------+-----------+----+-----------+\n",
            "|   18446823|R35T75OLUGHL5C|B000NV6H94|     110804376|Stearns Youth Boa...|          4|            0|          0|   N| 2015-08-31|\n",
            "|   13724367|R2BV735O46BN33|B000IN0W3Y|     624096774|Primal Wear Men's...|          5|            0|          0|   N| 2015-08-31|\n",
            "|   51001958|R2NBEUGPQQGXP1|B008RBJXFM|     278970944|Osprey Hydraulics...|          4|            0|          0|   N| 2015-08-31|\n",
            "|   32866903|R17LLAOJ8ITK0S|B00FK8WUQY|     312877650|CamelBak eddy .75...|          3|            1|          1|   N| 2015-08-31|\n",
            "|   30907790|R39PEQBT5ISEF4|B00EZA3VW0|     305567912|Children Black Re...|          1|            0|          0|   N| 2015-08-31|\n",
            "+-----------+--------------+----------+--------------+--------------------+-----------+-------------+-----------+----+-----------+\n",
            "only showing top 5 rows\n",
            "\n"
          ]
        }
      ],
      "source": [
        "# Load in a sql function to use columns\n",
        "from pyspark.sql.functions import col\n",
        "\n",
        "# Filter for only columns with active users\n",
        "cleaned_df = dropna_df.select(['customer_id','review_id','product_id','product_parent','product_title','star_rating','helpful_votes','total_votes','vine','review_date'])\n",
        "cleaned_df.show(5)"
      ]
    },
    {
      "cell_type": "code",
      "execution_count": 7,
      "metadata": {
        "colab": {
          "base_uri": "https://localhost:8080/"
        },
        "id": "wI7RGs-XREDk",
        "outputId": "258c9b41-7060-4450-8d0e-4cded2fb4ded"
      },
      "outputs": [
        {
          "name": "stdout",
          "output_type": "stream",
          "text": [
            "+-----------+-----+\n",
            "|customer_id|count|\n",
            "+-----------+-----+\n",
            "|   43679767|    1|\n",
            "|   32024654|    1|\n",
            "|   52913169|    1|\n",
            "|   24297214|    1|\n",
            "|   26096454|    1|\n",
            "+-----------+-----+\n",
            "only showing top 5 rows\n",
            "\n"
          ]
        },
        {
          "data": {
            "text/plain": [
              "1516273"
            ]
          },
          "execution_count": 7,
          "metadata": {},
          "output_type": "execute_result"
        }
      ],
      "source": [
        "# count of each customer\n",
        "\n",
        "count_df = cleaned_df.groupBy('customer_id').count()\n",
        "count_df.show(5)\n",
        "count_df.count()"
      ]
    },
    {
      "cell_type": "code",
      "execution_count": 8,
      "metadata": {
        "colab": {
          "base_uri": "https://localhost:8080/"
        },
        "id": "Z_dVjoLISZwb",
        "outputId": "4ad5be63-0b34-48e4-b3e8-c4d064c5105e"
      },
      "outputs": [
        {
          "name": "stdout",
          "output_type": "stream",
          "text": [
            "+-----------+-----+--------------+----------+--------------+--------------------+-----------+-------------+-----------+----+-----------+\n",
            "|customer_id|count|     review_id|product_id|product_parent|       product_title|star_rating|helpful_votes|total_votes|vine|review_date|\n",
            "+-----------+-----+--------------+----------+--------------+--------------------+-----------+-------------+-----------+----+-----------+\n",
            "|      10015|    1| R5UXI05724HJW|B00C2MHNJK|     237930913|SecurityIng Water...|          4|            2|          3|   N| 2013-11-21|\n",
            "|      10124|    1|R2ZWSOB8LVE9QL|B003V4OHEC|     273193187|McNett Tactical U...|          4|            0|          0|   N| 2013-08-03|\n",
            "|      10227|    1| RBCTEJGE7Q7RF|B001Q70A0G|     218826182|LEDwholesalers 51...|          5|            0|          0|   N| 2013-07-09|\n",
            "|      10293|    1| RGI07F2LZ59K0|B00HK9DQPK|     807801717|Hot Popular Women...|          5|            0|          0|   N| 2014-12-10|\n",
            "|      10348|    1|R28ATIU912MC9S|B00P5ZX1NI|     670551962|Waveborn Sunglass...|          4|            0|          0|   N| 2015-05-11|\n",
            "+-----------+-----+--------------+----------+--------------+--------------------+-----------+-------------+-----------+----+-----------+\n",
            "only showing top 5 rows\n",
            "\n"
          ]
        },
        {
          "data": {
            "text/plain": [
              "2302174"
            ]
          },
          "execution_count": 8,
          "metadata": {},
          "output_type": "execute_result"
        }
      ],
      "source": [
        "# join count_df with cleaned_df\n",
        "\n",
        "joined_df= count_df.join(cleaned_df, on='customer_id', how='inner')\n",
        "joined_df.show(5)\n",
        "joined_df.count()"
      ]
    },
    {
      "cell_type": "code",
      "execution_count": 9,
      "metadata": {
        "colab": {
          "base_uri": "https://localhost:8080/"
        },
        "id": "kv8_qOtiWLQf",
        "outputId": "d398f9d2-0a1f-4300-98e6-cf3581cc7cd1"
      },
      "outputs": [
        {
          "name": "stdout",
          "output_type": "stream",
          "text": [
            "+--------------+-----------+\n",
            "|     review_id|review_date|\n",
            "+--------------+-----------+\n",
            "| R5UXI05724HJW| 2013-11-21|\n",
            "|R2PEH4J9FWDFGX| 2013-09-22|\n",
            "|R2ZWSOB8LVE9QL| 2013-08-03|\n",
            "|R3UOV0UDMJVBXA| 2015-03-01|\n",
            "|R2LQ5ZH5TV67ZC| 2015-08-25|\n",
            "+--------------+-----------+\n",
            "only showing top 5 rows\n",
            "\n"
          ]
        },
        {
          "data": {
            "text/plain": [
              "[('review_id', 'string'), ('review_date', 'date')]"
            ]
          },
          "execution_count": 9,
          "metadata": {},
          "output_type": "execute_result"
        }
      ],
      "source": [
        "from pyspark.sql.functions import *\n",
        "\n",
        "dt_df = joined_df.select('review_id','review_date',to_date('review_date').alias('review_date_cv'))\n",
        "dt_df = dt_df.drop('review_date')\n",
        "dt_df = dt_df.withColumnRenamed('review_date_cv','review_date')\n",
        "dt_df.show(5)\n",
        "dt_df.count()\n",
        "dt_df.dtypes"
      ]
    },
    {
      "cell_type": "code",
      "execution_count": 10,
      "metadata": {
        "colab": {
          "base_uri": "https://localhost:8080/"
        },
        "id": "Qbqvm-sa_r0A",
        "outputId": "16b9ecdc-7ef9-4789-fe46-94b5d500bb28"
      },
      "outputs": [
        {
          "data": {
            "text/plain": [
              "2302174"
            ]
          },
          "execution_count": 10,
          "metadata": {},
          "output_type": "execute_result"
        }
      ],
      "source": [
        "dt_df.count()"
      ]
    },
    {
      "cell_type": "code",
      "execution_count": 11,
      "metadata": {
        "colab": {
          "base_uri": "https://localhost:8080/"
        },
        "id": "SQVTqpNoBFRa",
        "outputId": "7b46c70b-6a69-4048-9820-2509132da2ed"
      },
      "outputs": [
        {
          "name": "stdout",
          "output_type": "stream",
          "text": [
            "+-----------+-----+-------------+----------+--------------+--------------------+-----------+-------------+-----------+----+\n",
            "|customer_id|count|    review_id|product_id|product_parent|       product_title|star_rating|helpful_votes|total_votes|vine|\n",
            "+-----------+-----+-------------+----------+--------------+--------------------+-----------+-------------+-----------+----+\n",
            "|      10015|    1|R5UXI05724HJW|B00C2MHNJK|     237930913|SecurityIng Water...|          4|            2|          3|   N|\n",
            "+-----------+-----+-------------+----------+--------------+--------------------+-----------+-------------+-----------+----+\n",
            "only showing top 1 row\n",
            "\n"
          ]
        }
      ],
      "source": [
        "# drop string date column\n",
        "\n",
        "joined_df = joined_df.drop('review_date')\n",
        "joined_df.show(1)"
      ]
    },
    {
      "cell_type": "code",
      "execution_count": 12,
      "metadata": {
        "colab": {
          "base_uri": "https://localhost:8080/"
        },
        "id": "Rhubr72SZSnO",
        "outputId": "661fa964-294f-4348-9abc-e96d1518d56f"
      },
      "outputs": [
        {
          "name": "stdout",
          "output_type": "stream",
          "text": [
            "+--------------+-----------+-----------+-----+----------+--------------+--------------------+-----------+-------------+-----------+----+\n",
            "|     review_id|review_date|customer_id|count|product_id|product_parent|       product_title|star_rating|helpful_votes|total_votes|vine|\n",
            "+--------------+-----------+-----------+-----+----------+--------------+--------------------+-----------+-------------+-----------+----+\n",
            "|R10000R3GJ9K4W| 2014-11-23|   33191302|    1|B000QSXMME|     731839458|Planet Bike Blink...|          4|            0|          0|   N|\n",
            "|R1000EAOW8MDYK| 2015-04-28|   37876758|    1|B00FAW4O0A|     863230011|SoundAsleep Dream...|          5|            0|          0|   N|\n",
            "|R1000MO731G969| 2015-01-01|   37664296|    3|B000FK7C2E|     907264026|Razor A Kick Scooter|          4|            0|          0|   N|\n",
            "|R1001AUTMLT6LQ| 2014-10-20|   19545598|   11|B00CYTNWLE|     605045985|Dakine Kainui Coi...|          5|            0|          0|   N|\n",
            "|R1001RHSXTMO9I| 2014-08-28|   25177100|    1|B00DX5CY8K|     693400998|Royal Robbins Men...|          5|            0|          1|   N|\n",
            "+--------------+-----------+-----------+-----+----------+--------------+--------------------+-----------+-------------+-----------+----+\n",
            "only showing top 5 rows\n",
            "\n"
          ]
        },
        {
          "data": {
            "text/plain": [
              "2302174"
            ]
          },
          "execution_count": 12,
          "metadata": {},
          "output_type": "execute_result"
        }
      ],
      "source": [
        "# df with converted time\n",
        "\n",
        "joined_dt_df = dt_df.join(joined_df, on='review_id', how='inner')\n",
        "joined_dt_df.show(5)\n",
        "joined_dt_df.count()"
      ]
    },
    {
      "cell_type": "code",
      "execution_count": 13,
      "metadata": {
        "colab": {
          "base_uri": "https://localhost:8080/"
        },
        "id": "3Sthis9P205r",
        "outputId": "326734e4-b991-4dad-f6ff-c8c03c19e537"
      },
      "outputs": [
        {
          "name": "stdout",
          "output_type": "stream",
          "text": [
            "+--------------+-----------+-----------+-----+----------+--------------+--------------------+-----------+-------------+-----------+----+\n",
            "|     review_id|review_date|customer_id|count|product_id|product_parent|       product_title|star_rating|helpful_votes|total_votes|vine|\n",
            "+--------------+-----------+-----------+-----+----------+--------------+--------------------+-----------+-------------+-----------+----+\n",
            "|R10000R3GJ9K4W| 2014-11-23|   33191302|    1|B000QSXMME|     731839458|Planet Bike Blink...|          4|            0|          0|   N|\n",
            "|R1000EAOW8MDYK| 2015-04-28|   37876758|    1|B00FAW4O0A|     863230011|SoundAsleep Dream...|          5|            0|          0|   N|\n",
            "|R1000MO731G969| 2015-01-01|   37664296|    3|B000FK7C2E|     907264026|Razor A Kick Scooter|          4|            0|          0|   N|\n",
            "|R1001AUTMLT6LQ| 2014-10-20|   19545598|   11|B00CYTNWLE|     605045985|Dakine Kainui Coi...|          5|            0|          0|   N|\n",
            "|R1001RHSXTMO9I| 2014-08-28|   25177100|    1|B00DX5CY8K|     693400998|Royal Robbins Men...|          5|            0|          1|   N|\n",
            "+--------------+-----------+-----------+-----+----------+--------------+--------------------+-----------+-------------+-----------+----+\n",
            "only showing top 5 rows\n",
            "\n"
          ]
        },
        {
          "data": {
            "text/plain": [
              "2302174"
            ]
          },
          "execution_count": 13,
          "metadata": {},
          "output_type": "execute_result"
        }
      ],
      "source": [
        "# drop duplicates\n",
        "\n",
        "joined_dt_df = joined_dt_df.dropDuplicates(['review_id'])\n",
        "joined_dt_df.show(5)\n",
        "joined_dt_df.count()"
      ]
    },
    {
      "cell_type": "code",
      "execution_count": 14,
      "metadata": {
        "colab": {
          "base_uri": "https://localhost:8080/"
        },
        "id": "5JCtGL0ZPOAe",
        "outputId": "f6851cb2-06cd-4615-9252-a94b36f5aab2"
      },
      "outputs": [
        {
          "data": {
            "text/plain": [
              "2302174"
            ]
          },
          "execution_count": 14,
          "metadata": {},
          "output_type": "execute_result"
        }
      ],
      "source": [
        "joined_dt_df.count()"
      ]
    },
    {
      "cell_type": "code",
      "execution_count": 15,
      "metadata": {
        "colab": {
          "base_uri": "https://localhost:8080/"
        },
        "id": "OBo2iZtyZKvV",
        "outputId": "0fe6e432-ed7e-4249-b56a-800a522baa57"
      },
      "outputs": [
        {
          "name": "stdout",
          "output_type": "stream",
          "text": [
            "+--------------+-----------+----------+--------------+-----------+\n",
            "|     review_id|customer_id|product_id|product_parent|review_date|\n",
            "+--------------+-----------+----------+--------------+-----------+\n",
            "|R10000R3GJ9K4W|   33191302|B000QSXMME|     731839458| 2014-11-23|\n",
            "|R1000EAOW8MDYK|   37876758|B00FAW4O0A|     863230011| 2015-04-28|\n",
            "|R1000L9ACY9T7U|   29734993|B00OCEBZ86|     515483530| 2015-04-17|\n",
            "|R1000MO731G969|   37664296|B000FK7C2E|     907264026| 2015-01-01|\n",
            "|R1001AUTMLT6LQ|   19545598|B00CYTNWLE|     605045985| 2014-10-20|\n",
            "+--------------+-----------+----------+--------------+-----------+\n",
            "only showing top 5 rows\n",
            "\n"
          ]
        }
      ],
      "source": [
        "# review id table\n",
        "\n",
        "review_id_df = joined_dt_df.select(['review_id','customer_id','product_id','product_parent','review_date'])\n",
        "review_id_df.show(5)"
      ]
    },
    {
      "cell_type": "code",
      "execution_count": 24,
      "metadata": {
        "colab": {
          "base_uri": "https://localhost:8080/"
        },
        "id": "v33FDCalZNg7",
        "outputId": "37143cd5-5ad5-4211-afaa-869c9fbade4b"
      },
      "outputs": [
        {
          "name": "stdout",
          "output_type": "stream",
          "text": [
            "+----------+--------------------+\n",
            "|product_id|       product_title|\n",
            "+----------+--------------------+\n",
            "|0316287229|Bike Pedals for K...|\n",
            "|059445039X|Blackwatch Plaid ...|\n",
            "|0743609972|Maptech ChartKit®...|\n",
            "|078341384X|Three Sisters Wil...|\n",
            "|097794350X|Voyageur Map Numb...|\n",
            "+----------+--------------------+\n",
            "only showing top 5 rows\n",
            "\n"
          ]
        },
        {
          "data": {
            "text/plain": [
              "391700"
            ]
          },
          "execution_count": 24,
          "metadata": {},
          "output_type": "execute_result"
        }
      ],
      "source": [
        "# products table\n",
        "\n",
        "products_df = joined_dt_df.dropDuplicates(['product_id'])\n",
        "products_df = products_df.select(['product_id','product_title'])\n",
        "products_df.show(5)\n",
        "products_df.count()"
      ]
    },
    {
      "cell_type": "code",
      "execution_count": 30,
      "metadata": {
        "colab": {
          "base_uri": "https://localhost:8080/"
        },
        "id": "pz1WgirvZP90",
        "outputId": "9cb13ddc-eda6-44dc-da62-362d67cee59b"
      },
      "outputs": [
        {
          "name": "stdout",
          "output_type": "stream",
          "text": [
            "+-----------+--------------+\n",
            "|customer_id|customer_count|\n",
            "+-----------+--------------+\n",
            "|   50429951|             1|\n",
            "|    8382766|             1|\n",
            "|   20368791|             1|\n",
            "|   46350505|             1|\n",
            "|   15000890|             2|\n",
            "+-----------+--------------+\n",
            "only showing top 5 rows\n",
            "\n"
          ]
        }
      ],
      "source": [
        "# customers table\n",
        "\n",
        "cust_df = joined_dt_df.withColumnRenamed('count','customer_count')\n",
        "cust_df = cust_df.dropDuplicates(['customer_id'])\n",
        "cust_df.count()\n",
        "customers_df = cust_df.select(['customer_id','customer_count'])\n",
        "customers_df.show(5)"
      ]
    },
    {
      "cell_type": "code",
      "execution_count": 37,
      "metadata": {
        "colab": {
          "base_uri": "https://localhost:8080/"
        },
        "id": "W22N-eE_ZTQ1",
        "outputId": "657909d0-ca2e-4e8b-c5e5-8635584f4b88"
      },
      "outputs": [
        {
          "name": "stdout",
          "output_type": "stream",
          "text": [
            "+--------------+-----------+-------------+-----------+----+\n",
            "|     review_id|star_rating|helpful_votes|total_votes|vine|\n",
            "+--------------+-----------+-------------+-----------+----+\n",
            "|R1017MH588Q8HW|          5|            0|          2|   Y|\n",
            "|R102Y50B81GJV2|          5|           10|         11|   Y|\n",
            "|R106EPOYHY5FBL|          3|            0|          1|   Y|\n",
            "|R10CAGCBCBAYGA|          4|            0|          0|   Y|\n",
            "|R10CMYF15NQZXU|          4|            2|          3|   Y|\n",
            "+--------------+-----------+-------------+-----------+----+\n",
            "only showing top 5 rows\n",
            "\n"
          ]
        }
      ],
      "source": [
        "# vine table\n",
        "\n",
        "vine_df = joined_dt_df.filter('vine == \"Y\"')\n",
        "\n",
        "vine_df = vine_df.select(['review_id','star_rating','helpful_votes','total_votes','vine'])\n",
        "vine_df.show(5)"
      ]
    },
    {
      "cell_type": "markdown",
      "metadata": {
        "id": "kQgPpNnVnRwh"
      },
      "source": [
        "Postgres Setup"
      ]
    },
    {
      "cell_type": "code",
      "execution_count": 41,
      "metadata": {
        "id": "985Vl1dtmpVU"
      },
      "outputs": [],
      "source": [
        "# Configure settings for RDS\n",
        "import config # upload config.py with db function containing db_pass variable to colab\n",
        "\n",
        "mode = \"append\"\n",
        "jdbc_url=\"jdbc:postgresql://mypostgresdb.cva7mvzdbfbz.us-east-2.rds.amazonaws.com:5432/aws_reviews\"\n",
        "config = {\"user\":\"root\", \n",
        "          \"password\": config.db(), \n",
        "          \"driver\":\"org.postgresql.Driver\"}"
      ]
    },
    {
      "cell_type": "code",
      "execution_count": 20,
      "metadata": {
        "id": "9yyZgvcUnaNN"
      },
      "outputs": [],
      "source": [
        "# Write DataFrame to review_id_table in RDS\n",
        "\n",
        "review_id_df.write.jdbc(url=jdbc_url, table='review_id_table', mode=mode, properties=config)"
      ]
    },
    {
      "cell_type": "code",
      "execution_count": 25,
      "metadata": {
        "id": "0NPMofgdThyT"
      },
      "outputs": [],
      "source": [
        "# Write DataFrame to products table in RDS\n",
        "\n",
        "products_df.write.jdbc(url=jdbc_url, table='products', mode=mode, properties=config)"
      ]
    },
    {
      "cell_type": "code",
      "execution_count": 31,
      "metadata": {
        "id": "Kx3hMnlAD5FA"
      },
      "outputs": [],
      "source": [
        "# Write DataFrame to customers table in RDS\n",
        "\n",
        "customers_df.write.jdbc(url=jdbc_url, table='customers', mode=mode, properties=config)"
      ]
    },
    {
      "cell_type": "code",
      "execution_count": 43,
      "metadata": {
        "id": "bzooekJaTiv0"
      },
      "outputs": [],
      "source": [
        "# Write DataFrame to vine_table in RDS\n",
        "\n",
        "vine_df.write.jdbc(url=jdbc_url, table='vine_table', mode=mode, properties=config)"
      ]
    },
    {
      "cell_type": "code",
      "execution_count": null,
      "metadata": {
        "id": "xymSDK8JUrlQ"
      },
      "outputs": [],
      "source": []
    }
  ],
  "metadata": {
    "colab": {
      "name": "outdoor_product_reviews.ipynb",
      "provenance": []
    },
    "kernelspec": {
      "display_name": "Python 3",
      "language": "python",
      "name": "python3"
    },
    "language_info": {
      "codemirror_mode": {
        "name": "ipython",
        "version": 3
      },
      "file_extension": ".py",
      "mimetype": "text/x-python",
      "name": "python",
      "nbconvert_exporter": "python",
      "pygments_lexer": "ipython3",
      "version": "3.7.4"
    },
    "latex_envs": {
      "LaTeX_envs_menu_present": true,
      "autoclose": false,
      "autocomplete": true,
      "bibliofile": "biblio.bib",
      "cite_by": "apalike",
      "current_citInitial": 1,
      "eqLabelWithNumbers": true,
      "eqNumInitial": 1,
      "hotkeys": {
        "equation": "Ctrl-E",
        "itemize": "Ctrl-I"
      },
      "labels_anchors": false,
      "latex_user_defs": false,
      "report_style_numbering": false,
      "user_envs_cfg": false
    }
  },
  "nbformat": 4,
  "nbformat_minor": 0
}
